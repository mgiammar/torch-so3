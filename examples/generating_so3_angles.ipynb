{
 "cells": [
  {
   "cell_type": "markdown",
   "metadata": {},
   "source": [
    "# Generating angles on SO(3) grid"
   ]
  },
  {
   "cell_type": "code",
   "execution_count": 8,
   "metadata": {},
   "outputs": [],
   "source": [
    "from torch_so3.hopf_angles import get_uniform_euler_angles"
   ]
  },
  {
   "cell_type": "code",
   "execution_count": 9,
   "metadata": {},
   "outputs": [
    {
     "data": {
      "text/plain": [
       "torch.Size([1665792, 3])"
      ]
     },
     "execution_count": 9,
     "metadata": {},
     "output_type": "execute_result"
    }
   ],
   "source": [
    "angles = get_uniform_euler_angles(\n",
    "    in_plane_step=1.5,\n",
    "    out_of_plane_step=2.5,\n",
    "    phi_min=0.0,\n",
    "    phi_max=360.0,\n",
    "    theta_min=0.0,\n",
    "    theta_max=180.0,\n",
    "    psi_min=0.0,\n",
    "    psi_max=360.0,\n",
    "    base_grid_method=\"healpix\",\n",
    ")\n",
    "angles.shape"
   ]
  },
  {
   "cell_type": "code",
   "execution_count": 10,
   "metadata": {},
   "outputs": [
    {
     "data": {
      "text/plain": [
       "tensor([[  1.9493,  45.0000,   0.0000],\n",
       "        [  1.9493, 135.0000,   0.0000],\n",
       "        [  1.9493, 225.0000,   0.0000],\n",
       "        [  1.9493, 315.0000,   0.0000],\n",
       "        [  3.8992,  22.5000,   0.0000],\n",
       "        [  3.8992,  67.5000,   0.0000],\n",
       "        [  3.8992, 112.5000,   0.0000],\n",
       "        [  3.8992, 157.5000,   0.0000],\n",
       "        [  3.8992, 202.5000,   0.0000],\n",
       "        [  3.8992, 247.5000,   0.0000],\n",
       "        [  3.8992, 292.5000,   0.0000],\n",
       "        [  3.8992, 337.5000,   0.0000],\n",
       "        [  5.8503,  15.0000,   0.0000],\n",
       "        [  5.8503,  45.0000,   0.0000],\n",
       "        [  5.8503,  75.0000,   0.0000],\n",
       "        [  5.8503, 105.0000,   0.0000],\n",
       "        [  5.8503, 135.0000,   0.0000],\n",
       "        [  5.8503, 165.0000,   0.0000],\n",
       "        [  5.8503, 195.0000,   0.0000],\n",
       "        [  5.8503, 225.0000,   0.0000]], dtype=torch.float64)"
      ]
     },
     "execution_count": 10,
     "metadata": {},
     "output_type": "execute_result"
    }
   ],
   "source": [
    "angles[:20]"
   ]
  }
 ],
 "metadata": {
  "kernelspec": {
   "display_name": "torch-so3-dev",
   "language": "python",
   "name": "python3"
  },
  "language_info": {
   "codemirror_mode": {
    "name": "ipython",
    "version": 3
   },
   "file_extension": ".py",
   "mimetype": "text/x-python",
   "name": "python",
   "nbconvert_exporter": "python",
   "pygments_lexer": "ipython3",
   "version": "3.12.9"
  }
 },
 "nbformat": 4,
 "nbformat_minor": 2
}
